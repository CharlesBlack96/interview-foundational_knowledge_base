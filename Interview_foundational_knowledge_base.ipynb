{
  "nbformat": 4,
  "nbformat_minor": 0,
  "metadata": {
    "colab": {
      "provenance": [],
      "authorship_tag": "ABX9TyP/6cjV+TZZBOSPAoGcJ1Rd",
      "include_colab_link": true
    },
    "kernelspec": {
      "name": "python3",
      "display_name": "Python 3"
    },
    "language_info": {
      "name": "python"
    }
  },
  "cells": [
    {
      "cell_type": "markdown",
      "metadata": {
        "id": "view-in-github",
        "colab_type": "text"
      },
      "source": [
        "<a href=\"https://colab.research.google.com/github/CharlesBlack96/interview-foundational_knowledge_base/blob/main/Interview_foundational_knowledge_base.ipynb\" target=\"_parent\"><img src=\"https://colab.research.google.com/assets/colab-badge.svg\" alt=\"Open In Colab\"/></a>"
      ]
    },
    {
      "cell_type": "markdown",
      "source": [
        "API - yes i have made them\n",
        "- set of tools rules and protocols that are used to create software systems and also allow different sw systems to comunicate with eachother\n",
        "URI - yes i have made them\n",
        "- a URI/URL is a string containing the scheme of a host name, port number, path and query string.\n",
        "   - HOST NAME: part of URI that identifies the server where the resource is located. It used a domain name that is mapped to an ip adress ex) \"www.example.com/page.html\". ip adress represents the server a resouce is located on\n",
        "   - PORT NUMBER: typically part of the host name seperated by a colon (\"www.example.com:88088/page.html\"), referes to/identifies the specific process in which an internet msg is being sent.\n",
        "   - common port numbers that refer to the stucture of file that are being sent\n",
        "   -HTTP (Hypertext Transfer Protocol): Port 80\n",
        "    HTTPS (HTTP Secure): Port 443\n",
        "    FTP (File Transfer Protocol): Port 21\n",
        "    FTPS (FTP Secure): Port 990\n",
        "    SMTP (Simple Mail Transfer Protocol): Port 25\n",
        "    IMAP (Internet Message Access Protocol): Port 143 (non-secure) or 993 (secure)\n",
        "    POP3 (Post Office Protocol version 3): Port 110 (non-secure) or 995 (secure)\n",
        "    SSH (Secure Shell): Port 22\n",
        "    Telnet (Telecommunication Network): Port 23\n",
        "   - PATH: part of URI/URL that specifies the loction of a resource on a server. like a page refrence in a server that contains a book ex) \"https://www.example.com/dir1/dir2/page.html\", \"/dir1/dir2/page.html\" is the path.\n",
        "   - QUERY STRING: part of a URL or URI that contains additional information that can be used by the server to generate a dynamic response. indicated by a question mark followed by a key value pair seperatedd by &\n"
      ],
      "metadata": {
        "id": "rr0RvZCYdQIk"
      }
    },
    {
      "cell_type": "markdown",
      "source": [
        "Big O notation is a mathematical notation used to describe the performance or complexity of an algorithm. It is used to analyze how the runtime or memory requirements of an algorithm increase as the input size grows.\n",
        "\n",
        "In Big O notation, an algorithm's time complexity is expressed as the upper bound of its growth rate, which is denoted by \"O\". This growth rate is typically described in terms of the number of input elements, often represented as \"n\". The notation \"O(f(n))\" means that the algorithm's time complexity is proportional to some function of \"n\", with a scaling factor that is bounded above by a constant multiple of that function as \"n\" becomes very large.\n",
        "\n",
        "For example, an algorithm that takes constant time to complete, regardless of the input size, is said to have a time complexity of O(1). An algorithm that has a time complexity of O(n) has a linear growth rate, meaning that its runtime increases proportionally to the number of input elements. An algorithm with a time complexity of O(n^2) has a quadratic growth rate, meaning that its runtime increases quadratically as the input size increases.\n",
        "\n",
        "Big O notation is a powerful tool for comparing the performance of different algorithms and for predicting how well an algorithm will scale as the input size grows. By analyzing the time complexity of an algorithm, developers can optimize their code to improve performance and avoid inefficiencies.\n",
        "\n",
        "\n",
        "\n"
      ],
      "metadata": {
        "id": "4Hd1Wi3hcRM6"
      }
    },
    {
      "cell_type": "markdown",
      "source": [
        "When solving data structure and algorithm problems with Python, it is important to choose the appropriate data structure for the problem at hand. Here are some steps you can follow to determine which data structure to use in a given scenario:\n",
        "\n",
        "Understand the problem requirements: Before choosing a data structure, it is important to understand the problem requirements. Ask yourself questions such as what kind of data needs to be stored, how will it be accessed, how often will it be updated, and what operations will be performed on the data.\n",
        "\n",
        "Consider the time and space complexity: Different data structures have different time and space complexities for different operations. Consider the performance requirements of the problem and choose a data structure that meets those requirements.\n",
        "\n",
        "Evaluate the tradeoffs: Different data structures have different strengths and weaknesses. For example, an array may be fast for accessing elements by index, but slow for inserting or deleting elements. A linked list may be fast for inserting or deleting elements, but slow for accessing elements by index. Evaluate the tradeoffs of different data structures and choose one that balances the performance requirements with the specific needs of the problem.\n",
        "\n",
        "Test and refine: Once you have chosen a data structure, test it with sample inputs and refine it if necessary. Consider edge cases and unexpected inputs to ensure that the chosen data structure performs well in all scenarios.\n",
        "\n",
        "Here are some common data structures and their typical use cases:\n",
        "\n",
        "Lists: Lists are a built-in data structure in Python that can store any type of data. They are useful when you need to store a collection of items that can be accessed by index or iterated over.\n",
        "\n",
        "Tuples: Tuples are similar to lists but are immutable, meaning they cannot be modified once created. They are useful when you need to store a fixed collection of items that won't change.\n",
        "\n",
        "Dictionaries: Dictionaries are a built-in data structure in Python that allow you to store key-value pairs. They are useful when you need to look up values by a specific key.\n",
        "\n",
        "Sets: Sets are a built-in data structure in Python that store unique elements. They are useful when you need to check if an element is in a collection or perform set operations such as union, intersection, and difference.\n",
        "\n",
        "Arrays: Arrays are a data structure that store a collection of items of the same data type. They are useful when you need to perform fast random access to elements and when memory efficiency is important.\n",
        "\n",
        "Linked lists: Linked lists are a data structure that store a collection of nodes where each node contains a value and a reference to the next node. They are useful when you need to insert or delete elements frequently.\n",
        "\n",
        "Trees: Trees are a data structure that store a collection of nodes where each node has zero or more child nodes. They are useful when you need to perform hierarchical operations on data such as searching, inserting, and deleting.\n",
        "\n",
        "Graphs: Graphs are a data structure that store a collection of nodes and edges between them. They are useful when you need to model relationships between elements."
      ],
      "metadata": {
        "id": "dd7D5ac-7c_Y"
      }
    },
    {
      "cell_type": "code",
      "execution_count": null,
      "metadata": {
        "id": "yIoDpQHQbtNl"
      },
      "outputs": [],
      "source": [
        "TYPES OF LINKED LIST GCA PROBLEMS\n",
        "\n",
        "1) GIVEN HEAD VALUE AND INDEX, CREATE NEW NODE AND INSERT IT BEFOR GIVEN INDEX, INDEX <= 0 INSERT AT HEAD, INDEX >= LEN OF LIST APPEND TO END OF LIST\n",
        "2) GIVEN LL (L) AND A VALUE, INSERT VALUE IN CORRECT POSITION IN LL SO THAT THE LL STAYS IN STRICTLY INCREASING ORDER, MUST BE  O(N) \n",
        "3) GIVEN HEAD OF LL AND INDEX TO DELETE AT , RETURN THE HEAD OF THE MODIFIED LL, IF INDEX IS OUT OF RANGE RETYRN NULL, MUST BE O(N), ZERO BASED INDEX\n",
        "- deleting involves the prev variable because we need to point prev pointer past cur node to point to cur.next which \"removes curnode\"\n",
        "4)GIVEN A LIST RETURN A LIST WITH THE VALUES REVERSED. REARANGE NEXT POINTERS AND THEN RETURN OLD TAIL AS NEW HEAD. RETURN NULL IF INPUT IS EMPTY\n",
        "- reversing a list also needs prev variable because we will be pointing to prev instead of next to reearange current ointers and reverse list\n",
        "- in the while statement the order in which i assign variables is important, we need var for cur.next, then before assigning cur to it we must first\n",
        " make cur.next = prev, and prev then = cur, and lastly iterate of make cur = nextnode, if we do it out of order cur becomes nextnode prematurely,\n",
        "  and if we dont use a variable nextnode we cur will become prev instead of iterating to the next node\n",
        "5)GIVEN TWO LL SORTED IN NONDECREASING ORDER, MERGE THEM AND RETURN A NEW LL INCLUING ALL VALUES  ALSO IN NONDECREASING ORDER"
      ]
    },
    {
      "cell_type": "code",
      "source": [
        "LOOPING THROUGH AN ARRAY OR LIST:\n",
        "USING RANGE(LEN(ARRAY)) IS BAD PRACTICE NOWADAYS\n",
        "NOT GREAT FOR LOOPING BECAUSE:\n",
        "RANGE IS NOT INCLUSIVE RANGE(LEN(A)) = 0 - LEN(A-1)\n",
        "\n",
        "INSTEAD USE:\n",
        "\n",
        "DEF SOLUTION(A, VALUE):\n",
        "\n",
        "  FOR INDEX, ELE IN ENUMERATE(A):\n",
        "    IF VALUE == ELE:\n",
        "    RETURN INDEX\n",
        "\n",
        "\n"
      ],
      "metadata": {
        "id": "UGuaZUFI7X3T"
      },
      "execution_count": null,
      "outputs": []
    }
  ]
}
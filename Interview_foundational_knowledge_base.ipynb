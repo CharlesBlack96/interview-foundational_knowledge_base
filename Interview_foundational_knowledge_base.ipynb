{
  "nbformat": 4,
  "nbformat_minor": 0,
  "metadata": {
    "colab": {
      "provenance": [],
      "authorship_tag": "ABX9TyMxb9v/7AQIT9YTMU4TR7Qa",
      "include_colab_link": true
    },
    "kernelspec": {
      "name": "python3",
      "display_name": "Python 3"
    },
    "language_info": {
      "name": "python"
    }
  },
  "cells": [
    {
      "cell_type": "markdown",
      "metadata": {
        "id": "view-in-github",
        "colab_type": "text"
      },
      "source": [
        "<a href=\"https://colab.research.google.com/github/CharlesBlack96/interview-foundational_knowledge_base/blob/main/Interview_foundational_knowledge_base.ipynb\" target=\"_parent\"><img src=\"https://colab.research.google.com/assets/colab-badge.svg\" alt=\"Open In Colab\"/></a>"
      ]
    },
    {
      "cell_type": "markdown",
      "source": [
        "API - yes i have mad them\n",
        "- set of tools rules and protocols that are used to create software systems and also allow different sw systems to comunicate with eachother\n",
        "URI - yes i have made them\n",
        "- a URI/URL is a string containing the scheme of a host name, port number, path and query string.\n",
        "   - HOST NAME: part of URI that identifies the server where the resource is located. It used a domain name that is mapped to an ip adress ex) \"www.example.com/page.html\". ip adress represents the server a resouce is located on\n",
        "   - PORT NUMBER: typically part of the host name seperated by a colon (\"www.example.com:88088/page.html\"), referes to/identifies the specific process in which an internet msg is being sent.\n",
        "   - common port numbers that refer to the stucture of file that are being sent\n",
        "   -HTTP (Hypertext Transfer Protocol): Port 80\n",
        "    HTTPS (HTTP Secure): Port 443\n",
        "    FTP (File Transfer Protocol): Port 21\n",
        "    FTPS (FTP Secure): Port 990\n",
        "    SMTP (Simple Mail Transfer Protocol): Port 25\n",
        "    IMAP (Internet Message Access Protocol): Port 143 (non-secure) or 993 (secure)\n",
        "    POP3 (Post Office Protocol version 3): Port 110 (non-secure) or 995 (secure)\n",
        "    SSH (Secure Shell): Port 22\n",
        "    Telnet (Telecommunication Network): Port 23\n",
        "   - PATH: part of URI/URL that specifies the loction of a resource on a server. like a page refrence in a server that contains a book ex) \"https://www.example.com/dir1/dir2/page.html\", \"/dir1/dir2/page.html\" is the path.\n",
        "   - QUERY STRING: part of a URL or URI that contains additional information that can be used by the server to generate a dynamic response. indicated by a question mark followed by a key value pair seperatedd by &\n"
      ],
      "metadata": {
        "id": "rr0RvZCYdQIk"
      }
    },
    {
      "cell_type": "markdown",
      "source": [
        "Big O notation is a mathematical notation used to describe the performance or complexity of an algorithm. It is used to analyze how the runtime or memory requirements of an algorithm increase as the input size grows.\n",
        "\n",
        "In Big O notation, an algorithm's time complexity is expressed as the upper bound of its growth rate, which is denoted by \"O\". This growth rate is typically described in terms of the number of input elements, often represented as \"n\". The notation \"O(f(n))\" means that the algorithm's time complexity is proportional to some function of \"n\", with a scaling factor that is bounded above by a constant multiple of that function as \"n\" becomes very large.\n",
        "\n",
        "For example, an algorithm that takes constant time to complete, regardless of the input size, is said to have a time complexity of O(1). An algorithm that has a time complexity of O(n) has a linear growth rate, meaning that its runtime increases proportionally to the number of input elements. An algorithm with a time complexity of O(n^2) has a quadratic growth rate, meaning that its runtime increases quadratically as the input size increases.\n",
        "\n",
        "Big O notation is a powerful tool for comparing the performance of different algorithms and for predicting how well an algorithm will scale as the input size grows. By analyzing the time complexity of an algorithm, developers can optimize their code to improve performance and avoid inefficiencies.\n",
        "\n",
        "\n",
        "\n"
      ],
      "metadata": {
        "id": "4Hd1Wi3hcRM6"
      }
    },
    {
      "cell_type": "code",
      "execution_count": null,
      "metadata": {
        "id": "yIoDpQHQbtNl"
      },
      "outputs": [],
      "source": []
    }
  ]
}